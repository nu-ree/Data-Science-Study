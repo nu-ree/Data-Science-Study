{
 "cells": [
  {
   "cell_type": "markdown",
   "metadata": {},
   "source": [
    "## 라이브러리"
   ]
  },
  {
   "cell_type": "code",
   "execution_count": 56,
   "metadata": {},
   "outputs": [],
   "source": [
    "import numpy as np\n",
    "import matplotlib.pyplot as plt\n",
    "%matplotlib inline\n",
    "\n",
    "from sklearn.discriminant_analysis import LinearDiscriminantAnalysis\n",
    "from sklearn.discriminant_analysis import QuadraticDiscriminantAnalysis\n",
    "from sklearn.linear_model import LogisticRegression\n",
    "from sklearn.naive_bayes import GaussianNB\n",
    "from sklearn.model_selection import cross_val_score\n",
    "from sklearn.model_selection import train_test_split"
   ]
  },
  {
   "cell_type": "markdown",
   "metadata": {},
   "source": [
    "## 모델 생성"
   ]
  },
  {
   "cell_type": "code",
   "execution_count": 19,
   "metadata": {},
   "outputs": [],
   "source": [
    "def model_select(X, y, m):\n",
    "    x_train, x_test, y_train, y_test = train_test_split(X, y, test_size=0.2)   \n",
    "    if m == 'lda':\n",
    "        lda = LinearDiscriminantAnalysis(solver=\"svd\", store_covariance=True)\n",
    "        y_pred = lda.fit(x_train, y_train).predict(x_test)\n",
    "        result = cross_val_score(lda, x_train, y_train, cv=5)\n",
    "        return lda, result.mean()\n",
    "    elif m == 'qda':    \n",
    "        qda = QuadraticDiscriminantAnalysis(store_covariances=True)\n",
    "        y_pred = qda.fit(x_train, y_train).predict(x_test)\n",
    "        result = cross_val_score(qda, x_train, y_train, cv=5)\n",
    "        return qda, result.mean()\n",
    "    elif m == 'lr':\n",
    "        logit = LogisticRegression()\n",
    "        y_pred = logit.fit(x_train, y_train).predict(x_test)\n",
    "        result = cross_val_score(logit, x_train, y_train, cv=5)\n",
    "        return logit, result.mean()\n",
    "    elif m == 'nb':\n",
    "        nb = GaussianNB()\n",
    "        y_pred = nb.fit(x_train, y_train).predict(x_test)\n",
    "        result = cross_val_score(nb, x_train, y_train, cv=5)\n",
    "        return nb, result.mean()"
   ]
  },
  {
   "cell_type": "markdown",
   "metadata": {},
   "source": [
    "## 2 차원 같은 공분산"
   ]
  },
  {
   "cell_type": "code",
   "execution_count": 48,
   "metadata": {},
   "outputs": [
    {
     "name": "stdout",
     "output_type": "stream",
     "text": [
      "model :  LinearDiscriminantAnalysis(n_components=None, priors=None, shrinkage=None,\n",
      "              solver='svd', store_covariance=True, tol=0.0001)\n",
      "coefficient :  [[ 4.00451834 -2.23818095]]\n",
      "covariance :  [[ 0.66155654  0.71384413]\n",
      " [ 0.71384413  0.79551254]]\n",
      "result_mean :  0.731217218303\n",
      "--------------------------------------------------------------------------------------------------------------\n",
      "model :  QuadraticDiscriminantAnalysis(priors=None, reg_param=0.0,\n",
      "               store_covariance=False, store_covariances=True, tol=0.0001)\n",
      "covariance :  [array([[ 0.66625894,  0.72621449],\n",
      "       [ 0.72621449,  0.8200371 ]]), array([[ 0.61346938,  0.67125217],\n",
      "       [ 0.67125217,  0.75905788]])]\n",
      "result_mean :  0.756370274914\n",
      "--------------------------------------------------------------------------------------------------------------\n",
      "model :  LogisticRegression(C=1.0, class_weight=None, dual=False, fit_intercept=True,\n",
      "          intercept_scaling=1, max_iter=100, multi_class='ovr', n_jobs=1,\n",
      "          penalty='l2', random_state=None, solver='liblinear', tol=0.0001,\n",
      "          verbose=0, warm_start=False)\n",
      "coefficient :  [[ 2.30561121 -0.69771315]]\n",
      "result_mean :  0.726941354675\n",
      "--------------------------------------------------------------------------------------------------------------\n",
      "model :  GaussianNB(priors=None)\n",
      "theta :  [[-0.10521516 -0.11002942]\n",
      " [ 1.00816239  1.02152513]]\n",
      "sigma_ :  [[ 0.61271485  0.7523064 ]\n",
      " [ 0.64140301  0.7775441 ]]\n",
      "result_mean :  0.735535585097\n"
     ]
    },
    {
     "name": "stderr",
     "output_type": "stream",
     "text": [
      "/opt/conda/lib/python3.6/site-packages/sklearn/discriminant_analysis.py:664: DeprecationWarning: 'store_covariances' was renamed to store_covariance in version 0.19 and will be removed in 0.21.\n",
      "  DeprecationWarning)\n",
      "/opt/conda/lib/python3.6/site-packages/sklearn/discriminant_analysis.py:664: DeprecationWarning: 'store_covariances' was renamed to store_covariance in version 0.19 and will be removed in 0.21.\n",
      "  DeprecationWarning)\n",
      "/opt/conda/lib/python3.6/site-packages/sklearn/discriminant_analysis.py:664: DeprecationWarning: 'store_covariances' was renamed to store_covariance in version 0.19 and will be removed in 0.21.\n",
      "  DeprecationWarning)\n",
      "/opt/conda/lib/python3.6/site-packages/sklearn/discriminant_analysis.py:664: DeprecationWarning: 'store_covariances' was renamed to store_covariance in version 0.19 and will be removed in 0.21.\n",
      "  DeprecationWarning)\n",
      "/opt/conda/lib/python3.6/site-packages/sklearn/discriminant_analysis.py:664: DeprecationWarning: 'store_covariances' was renamed to store_covariance in version 0.19 and will be removed in 0.21.\n",
      "  DeprecationWarning)\n",
      "/opt/conda/lib/python3.6/site-packages/sklearn/discriminant_analysis.py:664: DeprecationWarning: 'store_covariances' was renamed to store_covariance in version 0.19 and will be removed in 0.21.\n",
      "  DeprecationWarning)\n"
     ]
    }
   ],
   "source": [
    "'''Generate 2 Gaussians samples with the same covariance matrix'''\n",
    "n, dim = 300, 2\n",
    "np.random.seed(0)\n",
    "C = np.array([np.random.random(size=dim), np.random.random(size=dim)])\n",
    "X = np.r_[np.dot(np.random.randn(n, dim), C),\n",
    "          np.dot(np.random.randn(n, dim), C) + np.array([1, 1])]\n",
    "y = np.hstack((np.zeros(n), np.ones(n)))\n",
    "\n",
    "lda, res = model_select(X, y, 'lda')\n",
    "print(\"model : \",lda)\n",
    "print(\"coefficient : \",lda.coef_)\n",
    "print(\"covariance : \", lda.covariance_)\n",
    "print(\"result_mean : \", res)\n",
    "print(\"--------------------------------------------------------------------------------------------------------------\")\n",
    "qda, res = model_select(X, y, 'qda')\n",
    "print(\"model : \",qda)\n",
    "print(\"covariance : \", qda.covariance_)\n",
    "print(\"result_mean : \", res)\n",
    "print(\"--------------------------------------------------------------------------------------------------------------\")\n",
    "lr, res = model_select(X, y, 'lr')\n",
    "print(\"model : \",lr)\n",
    "print(\"coefficient : \",lr.coef_)\n",
    "print(\"result_mean : \", res)\n",
    "print(\"--------------------------------------------------------------------------------------------------------------\")\n",
    "nb, res = model_select(X, y, 'nb')\n",
    "print(\"model : \",nb)\n",
    "print(\"theta : \",nb.theta_)\n",
    "print(\"sigma_ : \", nb.sigma_)\n",
    "print(\"result_mean : \", res)"
   ]
  },
  {
   "cell_type": "markdown",
   "metadata": {},
   "source": [
    "## 2차원 다른 공분산"
   ]
  },
  {
   "cell_type": "code",
   "execution_count": 58,
   "metadata": {},
   "outputs": [
    {
     "name": "stdout",
     "output_type": "stream",
     "text": [
      "model :  LinearDiscriminantAnalysis(n_components=None, priors=None, shrinkage=None,\n",
      "              solver='svd', store_covariance=True, tol=0.0001)\n",
      "coefficient :  [[-24.06099276  25.12175571]]\n",
      "covariance :  [[ 2.94757662  2.86659396]\n",
      " [ 2.86659396  2.90979606]]\n",
      "result_mean :  1.0\n",
      "--------------------------------------------------------------------------------------------------------------\n",
      "model :  QuadraticDiscriminantAnalysis(priors=None, reg_param=0.0,\n",
      "               store_covariance=False, store_covariances=True, tol=0.0001)\n",
      "covariance :  [array([[ 2.66503578,  2.90485796],\n",
      "       [ 2.90485796,  3.28014841]]), array([[ 2.97792761,  2.66188272],\n",
      "       [ 2.66188272,  2.46039838]])]\n",
      "result_mean :  1.0\n",
      "--------------------------------------------------------------------------------------------------------------\n",
      "model :  LogisticRegression(C=1.0, class_weight=None, dual=False, fit_intercept=True,\n",
      "          intercept_scaling=1, max_iter=100, multi_class='ovr', n_jobs=1,\n",
      "          penalty='l2', random_state=None, solver='liblinear', tol=0.0001,\n",
      "          verbose=0, warm_start=False)\n",
      "coefficient :  [[-2.62937866  2.83224247]]\n",
      "result_mean :  1.0\n",
      "--------------------------------------------------------------------------------------------------------------\n",
      "model :  GaussianNB(priors=None)\n",
      "theta :  [[-0.21043032 -0.22005884]\n",
      " [ 1.00614967  4.02853073]]\n",
      "sigma_ :  [[ 2.4508594   3.00922562]\n",
      " [ 3.14012069  2.54498231]]\n",
      "result_mean :  0.854312488696\n"
     ]
    },
    {
     "name": "stderr",
     "output_type": "stream",
     "text": [
      "/opt/conda/lib/python3.6/site-packages/sklearn/discriminant_analysis.py:664: DeprecationWarning: 'store_covariances' was renamed to store_covariance in version 0.19 and will be removed in 0.21.\n",
      "  DeprecationWarning)\n",
      "/opt/conda/lib/python3.6/site-packages/sklearn/discriminant_analysis.py:664: DeprecationWarning: 'store_covariances' was renamed to store_covariance in version 0.19 and will be removed in 0.21.\n",
      "  DeprecationWarning)\n",
      "/opt/conda/lib/python3.6/site-packages/sklearn/discriminant_analysis.py:664: DeprecationWarning: 'store_covariances' was renamed to store_covariance in version 0.19 and will be removed in 0.21.\n",
      "  DeprecationWarning)\n",
      "/opt/conda/lib/python3.6/site-packages/sklearn/discriminant_analysis.py:664: DeprecationWarning: 'store_covariances' was renamed to store_covariance in version 0.19 and will be removed in 0.21.\n",
      "  DeprecationWarning)\n",
      "/opt/conda/lib/python3.6/site-packages/sklearn/discriminant_analysis.py:664: DeprecationWarning: 'store_covariances' was renamed to store_covariance in version 0.19 and will be removed in 0.21.\n",
      "  DeprecationWarning)\n",
      "/opt/conda/lib/python3.6/site-packages/sklearn/discriminant_analysis.py:664: DeprecationWarning: 'store_covariances' was renamed to store_covariance in version 0.19 and will be removed in 0.21.\n",
      "  DeprecationWarning)\n"
     ]
    }
   ],
   "source": [
    "'''Generate 2 Gaussians samples with different covariance matrices'''\n",
    "n, dim = 300, 2\n",
    "np.random.seed(0)\n",
    "C = np.array([np.random.random(size=dim), np.random.random(size=dim)]) * 2.\n",
    "X = np.r_[np.dot(np.random.randn(n, dim), C),\n",
    "              np.dot(np.random.randn(n, dim), C.T) + np.array([1, 4])]\n",
    "y = np.hstack((np.zeros(n), np.ones(n)))\n",
    "\n",
    "lda, res = model_select(X, y, 'lda')\n",
    "print(\"model : \",lda)\n",
    "print(\"coefficient : \",lda.coef_)\n",
    "print(\"covariance : \", lda.covariance_)\n",
    "print(\"result_mean : \", res)\n",
    "print(\"--------------------------------------------------------------------------------------------------------------\")\n",
    "qda, res = model_select(X, y, 'qda')\n",
    "print(\"model : \",qda)\n",
    "print(\"covariance : \", qda.covariance_)\n",
    "print(\"result_mean : \", res)\n",
    "print(\"--------------------------------------------------------------------------------------------------------------\")\n",
    "lr, res = model_select(X, y, 'lr')\n",
    "print(\"model : \",lr)\n",
    "print(\"coefficient : \",lr.coef_)\n",
    "print(\"result_mean : \", res)\n",
    "print(\"--------------------------------------------------------------------------------------------------------------\")\n",
    "nb, res = model_select(X, y, 'nb')\n",
    "print(\"model : \",nb)\n",
    "print(\"theta : \",nb.theta_)\n",
    "print(\"sigma_ : \", nb.sigma_)\n",
    "print(\"result_mean : \", res)"
   ]
  },
  {
   "cell_type": "markdown",
   "metadata": {},
   "source": [
    "## 3차원 같은 공분산"
   ]
  },
  {
   "cell_type": "code",
   "execution_count": 68,
   "metadata": {},
   "outputs": [
    {
     "name": "stdout",
     "output_type": "stream",
     "text": [
      "model :  LinearDiscriminantAnalysis(n_components=None, priors=None, shrinkage=None,\n",
      "              solver='svd', store_covariance=True, tol=0.0001)\n",
      "coefficient :  [[ 4.50511535  1.26850375 -3.25024911]]\n",
      "covariance :  [[ 0.76458319  0.98856865  1.08661285]\n",
      " [ 0.98856865  1.45657792  1.5501226 ]\n",
      " [ 1.08661285  1.5501226   1.71148739]]\n",
      "result_mean :  0.810538298065\n",
      "--------------------------------------------------------------------------------------------------------------\n",
      "model :  QuadraticDiscriminantAnalysis(priors=None, reg_param=0.0,\n",
      "               store_covariance=False, store_covariances=True, tol=0.0001)\n",
      "covariance :  [array([[ 0.77140998,  0.97550575,  1.07971675],\n",
      "       [ 0.97550575,  1.40429755,  1.50401239],\n",
      "       [ 1.07971675,  1.50401239,  1.66962701]]), array([[ 0.75706577,  0.99122098,  1.07128245],\n",
      "       [ 0.99122098,  1.46761803,  1.53675133],\n",
      "       [ 1.07128245,  1.53675133,  1.67791872]])]\n",
      "result_mean :  0.798082157714\n",
      "--------------------------------------------------------------------------------------------------------------\n",
      "model :  LogisticRegression(C=1.0, class_weight=None, dual=False, fit_intercept=True,\n",
      "          intercept_scaling=1, max_iter=100, multi_class='ovr', n_jobs=1,\n",
      "          penalty='l2', random_state=None, solver='liblinear', tol=0.0001,\n",
      "          verbose=0, warm_start=False)\n",
      "coefficient :  [[ 3.21803905  0.7981713  -1.93151333]]\n",
      "result_mean :  0.785594139989\n",
      "--------------------------------------------------------------------------------------------------------------\n",
      "model :  GaussianNB(priors=None)\n",
      "theta :  [[-0.13427108 -0.22685025 -0.26317649]\n",
      " [ 1.06189062  1.08889354  1.08632858]]\n",
      "sigma_ :  [[ 0.81443401  1.53063657  1.74475252]\n",
      " [ 0.69435018  1.33876094  1.54405375]]\n",
      "result_mean :  0.712443931995\n"
     ]
    },
    {
     "name": "stderr",
     "output_type": "stream",
     "text": [
      "/opt/conda/lib/python3.6/site-packages/sklearn/discriminant_analysis.py:664: DeprecationWarning: 'store_covariances' was renamed to store_covariance in version 0.19 and will be removed in 0.21.\n",
      "  DeprecationWarning)\n",
      "/opt/conda/lib/python3.6/site-packages/sklearn/discriminant_analysis.py:664: DeprecationWarning: 'store_covariances' was renamed to store_covariance in version 0.19 and will be removed in 0.21.\n",
      "  DeprecationWarning)\n",
      "/opt/conda/lib/python3.6/site-packages/sklearn/discriminant_analysis.py:664: DeprecationWarning: 'store_covariances' was renamed to store_covariance in version 0.19 and will be removed in 0.21.\n",
      "  DeprecationWarning)\n",
      "/opt/conda/lib/python3.6/site-packages/sklearn/discriminant_analysis.py:664: DeprecationWarning: 'store_covariances' was renamed to store_covariance in version 0.19 and will be removed in 0.21.\n",
      "  DeprecationWarning)\n",
      "/opt/conda/lib/python3.6/site-packages/sklearn/discriminant_analysis.py:664: DeprecationWarning: 'store_covariances' was renamed to store_covariance in version 0.19 and will be removed in 0.21.\n",
      "  DeprecationWarning)\n",
      "/opt/conda/lib/python3.6/site-packages/sklearn/discriminant_analysis.py:664: DeprecationWarning: 'store_covariances' was renamed to store_covariance in version 0.19 and will be removed in 0.21.\n",
      "  DeprecationWarning)\n"
     ]
    }
   ],
   "source": [
    "'''Generate 3 Gaussians samples with the same covariance matrix'''\n",
    "n, dim = 300, 3\n",
    "np.random.seed(0)\n",
    "C = np.array([np.random.random(size=dim), np.random.random(size=dim), np.random.random(size=dim)])\n",
    "X = np.r_[np.dot(np.random.randn(n, dim), C),\n",
    "          np.dot(np.random.randn(n, dim), C) + np.array([1, 1, 1])]\n",
    "y = np.hstack((np.zeros(n), np.ones(n)))\n",
    "\n",
    "lda, res = model_select(X, y, 'lda')\n",
    "print(\"model : \",lda)\n",
    "print(\"coefficient : \",lda.coef_)\n",
    "print(\"covariance : \", lda.covariance_)\n",
    "print(\"result_mean : \", res)\n",
    "print(\"--------------------------------------------------------------------------------------------------------------\")\n",
    "qda, res = model_select(X, y, 'qda')\n",
    "print(\"model : \",qda)\n",
    "print(\"covariance : \", qda.covariance_)\n",
    "print(\"result_mean : \", res)\n",
    "print(\"--------------------------------------------------------------------------------------------------------------\")\n",
    "lr, res = model_select(X, y, 'lr')\n",
    "print(\"model : \",lr)\n",
    "print(\"coefficient : \",lr.coef_)\n",
    "print(\"result_mean : \", res)\n",
    "print(\"--------------------------------------------------------------------------------------------------------------\")\n",
    "nb, res = model_select(X, y, 'nb')\n",
    "print(\"model : \",nb)\n",
    "print(\"theta : \",nb.theta_)\n",
    "print(\"sigma_ : \", nb.sigma_)\n",
    "print(\"result_mean : \", res)"
   ]
  },
  {
   "cell_type": "markdown",
   "metadata": {},
   "source": [
    "## 3차원 다른 공분산"
   ]
  },
  {
   "cell_type": "code",
   "execution_count": 66,
   "metadata": {},
   "outputs": [
    {
     "name": "stdout",
     "output_type": "stream",
     "text": [
      "model :  LinearDiscriminantAnalysis(n_components=None, priors=None, shrinkage=None,\n",
      "              solver='svd', store_covariance=True, tol=0.0001)\n",
      "coefficient :  [[ -4.56119507 -12.10026033  14.52567108]]\n",
      "covariance :  [[ 3.05833277  3.9542746   4.34645139]\n",
      " [ 3.9542746   5.82631169  6.20049041]\n",
      " [ 4.34645139  6.20049041  6.84594957]]\n",
      "result_mean :  1.0\n",
      "--------------------------------------------------------------------------------------------------------------\n",
      "model :  QuadraticDiscriminantAnalysis(priors=None, reg_param=0.0,\n",
      "               store_covariance=False, store_covariances=True, tol=0.0001)\n",
      "covariance :  [array([[ 3.08563992,  3.90202302,  4.31886698],\n",
      "       [ 3.90202302,  5.61719018,  6.01604955],\n",
      "       [ 4.31886698,  6.01604955,  6.67850803]]), array([[ 3.02826308,  3.96488394,  4.28512981],\n",
      "       [ 3.96488394,  5.8704721 ,  6.14700533],\n",
      "       [ 4.28512981,  6.14700533,  6.71167489]])]\n",
      "result_mean :  1.0\n",
      "--------------------------------------------------------------------------------------------------------------\n",
      "model :  LogisticRegression(C=1.0, class_weight=None, dual=False, fit_intercept=True,\n",
      "          intercept_scaling=1, max_iter=100, multi_class='ovr', n_jobs=1,\n",
      "          penalty='l2', random_state=None, solver='liblinear', tol=0.0001,\n",
      "          verbose=0, warm_start=False)\n",
      "coefficient :  [[-1.10902677 -2.3258237   3.10009956]]\n",
      "result_mean :  1.0\n",
      "--------------------------------------------------------------------------------------------------------------\n",
      "model :  GaussianNB(priors=None)\n",
      "theta :  [[-0.26854216 -0.45370051 -0.52635298]\n",
      " [ 1.12378124  1.17778708  4.17265717]]\n",
      "sigma_ :  [[ 3.25773606  6.12254629  6.97901007]\n",
      " [ 2.77740073  5.35504376  6.176215  ]]\n",
      "result_mean :  0.737379951167\n"
     ]
    },
    {
     "name": "stderr",
     "output_type": "stream",
     "text": [
      "/opt/conda/lib/python3.6/site-packages/sklearn/discriminant_analysis.py:664: DeprecationWarning: 'store_covariances' was renamed to store_covariance in version 0.19 and will be removed in 0.21.\n",
      "  DeprecationWarning)\n",
      "/opt/conda/lib/python3.6/site-packages/sklearn/discriminant_analysis.py:664: DeprecationWarning: 'store_covariances' was renamed to store_covariance in version 0.19 and will be removed in 0.21.\n",
      "  DeprecationWarning)\n",
      "/opt/conda/lib/python3.6/site-packages/sklearn/discriminant_analysis.py:664: DeprecationWarning: 'store_covariances' was renamed to store_covariance in version 0.19 and will be removed in 0.21.\n",
      "  DeprecationWarning)\n",
      "/opt/conda/lib/python3.6/site-packages/sklearn/discriminant_analysis.py:664: DeprecationWarning: 'store_covariances' was renamed to store_covariance in version 0.19 and will be removed in 0.21.\n",
      "  DeprecationWarning)\n",
      "/opt/conda/lib/python3.6/site-packages/sklearn/discriminant_analysis.py:664: DeprecationWarning: 'store_covariances' was renamed to store_covariance in version 0.19 and will be removed in 0.21.\n",
      "  DeprecationWarning)\n",
      "/opt/conda/lib/python3.6/site-packages/sklearn/discriminant_analysis.py:664: DeprecationWarning: 'store_covariances' was renamed to store_covariance in version 0.19 and will be removed in 0.21.\n",
      "  DeprecationWarning)\n"
     ]
    }
   ],
   "source": [
    "'''Generate 3 Gaussians samples with the different covariance matrix'''\n",
    "n, dim = 300, 3\n",
    "np.random.seed(0)\n",
    "C = np.array([np.random.random(size=dim), np.random.random(size=dim), np.random.random(size=dim)]) * 2\n",
    "X = np.r_[np.dot(np.random.randn(n, dim), C),\n",
    "          np.dot(np.random.randn(n, dim), C) + np.array([1, 1, 4])]\n",
    "y = np.hstack((np.zeros(n), np.ones(n)))\n",
    "\n",
    "lda, res = model_select(X, y, 'lda')\n",
    "print(\"model : \",lda)\n",
    "print(\"coefficient : \",lda.coef_)\n",
    "print(\"covariance : \", lda.covariance_)\n",
    "print(\"result_mean : \", res)\n",
    "print(\"--------------------------------------------------------------------------------------------------------------\")\n",
    "qda, res = model_select(X, y, 'qda')\n",
    "print(\"model : \",qda)\n",
    "print(\"covariance : \", qda.covariance_)\n",
    "print(\"result_mean : \", res)\n",
    "print(\"--------------------------------------------------------------------------------------------------------------\")\n",
    "lr, res = model_select(X, y, 'lr')\n",
    "print(\"model : \",lr)\n",
    "print(\"coefficient : \",lr.coef_)\n",
    "print(\"result_mean : \", res)\n",
    "print(\"--------------------------------------------------------------------------------------------------------------\")\n",
    "nb, res = model_select(X, y, 'nb')\n",
    "print(\"model : \",nb)\n",
    "print(\"theta : \",nb.theta_)\n",
    "print(\"sigma_ : \", nb.sigma_)\n",
    "print(\"result_mean : \", res)"
   ]
  },
  {
   "cell_type": "markdown",
   "metadata": {},
   "source": [
    "## 4차원 같은 공분산"
   ]
  },
  {
   "cell_type": "code",
   "execution_count": 67,
   "metadata": {},
   "outputs": [
    {
     "name": "stdout",
     "output_type": "stream",
     "text": [
      "model :  LinearDiscriminantAnalysis(n_components=None, priors=None, shrinkage=None,\n",
      "              solver='svd', store_covariance=True, tol=0.0001)\n",
      "coefficient :  [[-1.39573954  0.81865571  2.37261865 -0.71410103]]\n",
      "covariance :  [[ 1.57075255  1.38188629  1.20033453  1.10358367]\n",
      " [ 1.38188629  1.74118491  0.96652166  1.1381091 ]\n",
      " [ 1.20033453  0.96652166  1.07797143  1.02172245]\n",
      " [ 1.10358367  1.1381091   1.02172245  1.25580487]]\n",
      "result_mean :  0.666747377464\n",
      "--------------------------------------------------------------------------------------------------------------\n",
      "model :  QuadraticDiscriminantAnalysis(priors=None, reg_param=0.0,\n",
      "               store_covariance=False, store_covariances=True, tol=0.0001)\n",
      "covariance :  [array([[ 1.44122415,  1.29934896,  1.05210008,  0.91980151],\n",
      "       [ 1.29934896,  1.73636212,  0.86281534,  1.02265742],\n",
      "       [ 1.05210008,  0.86281534,  0.9395569 ,  0.87156575],\n",
      "       [ 0.91980151,  1.02265742,  0.87156575,  1.11981683]]), array([[ 1.65577532,  1.44446138,  1.30652731,  1.2421561 ],\n",
      "       [ 1.44446138,  1.75356399,  1.04650673,  1.23920168],\n",
      "       [ 1.30652731,  1.04650673,  1.1875474 ,  1.14600547],\n",
      "       [ 1.2421561 ,  1.23920168,  1.14600547,  1.39192488]])]\n",
      "result_mean :  0.6875\n",
      "--------------------------------------------------------------------------------------------------------------\n",
      "model :  LogisticRegression(C=1.0, class_weight=None, dual=False, fit_intercept=True,\n",
      "          intercept_scaling=1, max_iter=100, multi_class='ovr', n_jobs=1,\n",
      "          penalty='l2', random_state=None, solver='liblinear', tol=0.0001,\n",
      "          verbose=0, warm_start=False)\n",
      "coefficient :  [[-0.83517931  0.52543397  1.61399672 -0.28358966]]\n",
      "result_mean :  0.704001853861\n",
      "--------------------------------------------------------------------------------------------------------------\n",
      "model :  GaussianNB(priors=None)\n",
      "theta :  [[-0.04996833 -0.07483581  0.01820698  0.03312188]\n",
      " [ 0.94770797  0.92297511  0.94304066  0.95064775]]\n",
      "sigma_ :  [[ 1.51316235  1.80899235  1.00325907  1.1973189 ]\n",
      " [ 1.44512334  1.59655361  1.07821582  1.28721095]]\n",
      "result_mean :  0.67487769036\n"
     ]
    },
    {
     "name": "stderr",
     "output_type": "stream",
     "text": [
      "/opt/conda/lib/python3.6/site-packages/sklearn/discriminant_analysis.py:664: DeprecationWarning: 'store_covariances' was renamed to store_covariance in version 0.19 and will be removed in 0.21.\n",
      "  DeprecationWarning)\n",
      "/opt/conda/lib/python3.6/site-packages/sklearn/discriminant_analysis.py:664: DeprecationWarning: 'store_covariances' was renamed to store_covariance in version 0.19 and will be removed in 0.21.\n",
      "  DeprecationWarning)\n",
      "/opt/conda/lib/python3.6/site-packages/sklearn/discriminant_analysis.py:664: DeprecationWarning: 'store_covariances' was renamed to store_covariance in version 0.19 and will be removed in 0.21.\n",
      "  DeprecationWarning)\n",
      "/opt/conda/lib/python3.6/site-packages/sklearn/discriminant_analysis.py:664: DeprecationWarning: 'store_covariances' was renamed to store_covariance in version 0.19 and will be removed in 0.21.\n",
      "  DeprecationWarning)\n",
      "/opt/conda/lib/python3.6/site-packages/sklearn/discriminant_analysis.py:664: DeprecationWarning: 'store_covariances' was renamed to store_covariance in version 0.19 and will be removed in 0.21.\n",
      "  DeprecationWarning)\n",
      "/opt/conda/lib/python3.6/site-packages/sklearn/discriminant_analysis.py:664: DeprecationWarning: 'store_covariances' was renamed to store_covariance in version 0.19 and will be removed in 0.21.\n",
      "  DeprecationWarning)\n"
     ]
    }
   ],
   "source": [
    "'''Generate 4 Gaussians samples with the same covariance matrix'''\n",
    "n, dim = 300, 4\n",
    "np.random.seed(0)\n",
    "C = np.array([np.random.random(size=dim), np.random.random(size=dim), np.random.random(size=dim), np.random.random(size=dim)])\n",
    "X = np.r_[np.dot(np.random.randn(n, dim), C),\n",
    "          np.dot(np.random.randn(n, dim), C) + np.array([1, 1, 1, 1])]\n",
    "y = np.hstack((np.zeros(n), np.ones(n)))\n",
    "\n",
    "lda, res = model_select(X, y, 'lda')\n",
    "print(\"model : \",lda)\n",
    "print(\"coefficient : \",lda.coef_)\n",
    "print(\"covariance : \", lda.covariance_)\n",
    "print(\"result_mean : \", res)\n",
    "print(\"--------------------------------------------------------------------------------------------------------------\")\n",
    "qda, res = model_select(X, y, 'qda')\n",
    "print(\"model : \",qda)\n",
    "print(\"covariance : \", qda.covariance_)\n",
    "print(\"result_mean : \", res)\n",
    "print(\"--------------------------------------------------------------------------------------------------------------\")\n",
    "lr, res = model_select(X, y, 'lr')\n",
    "print(\"model : \",lr)\n",
    "print(\"coefficient : \",lr.coef_)\n",
    "print(\"result_mean : \", res)\n",
    "print(\"--------------------------------------------------------------------------------------------------------------\")\n",
    "nb, res = model_select(X, y, 'nb')\n",
    "print(\"model : \",nb)\n",
    "print(\"theta : \",nb.theta_)\n",
    "print(\"sigma_ : \", nb.sigma_)\n",
    "print(\"result_mean : \", res)"
   ]
  },
  {
   "cell_type": "markdown",
   "metadata": {},
   "source": [
    "## 4차원 다른 공분산"
   ]
  },
  {
   "cell_type": "code",
   "execution_count": 62,
   "metadata": {},
   "outputs": [
    {
     "name": "stdout",
     "output_type": "stream",
     "text": [
      "model :  LinearDiscriminantAnalysis(n_components=None, priors=None, shrinkage=None,\n",
      "              solver='svd', store_covariance=True, tol=0.0001)\n",
      "coefficient :  [[ 4.69208926 -2.97893276 -7.51618061  5.45387256]]\n",
      "covariance :  [[ 6.28301019  5.52754514  4.80133811  4.41433468]\n",
      " [ 5.52754514  6.96473963  3.86608662  4.5524364 ]\n",
      " [ 4.80133811  3.86608662  4.31188573  4.08688979]\n",
      " [ 4.41433468  4.5524364   4.08688979  5.02321946]]\n",
      "result_mean :  0.983310047025\n",
      "--------------------------------------------------------------------------------------------------------------\n",
      "model :  QuadraticDiscriminantAnalysis(priors=None, reg_param=0.0,\n",
      "               store_covariance=False, store_covariances=True, tol=0.0001)\n",
      "covariance :  [array([[ 5.76489661,  5.19739585,  4.20840031,  3.67920606],\n",
      "       [ 5.19739585,  6.94544848,  3.45126137,  4.09062966],\n",
      "       [ 4.20840031,  3.45126137,  3.75822761,  3.486263  ],\n",
      "       [ 3.67920606,  4.09062966,  3.486263  ,  4.47926734]]), array([[ 6.62310126,  5.7778455 ,  5.22610922,  4.96862442],\n",
      "       [ 5.7778455 ,  7.01425598,  4.18602692,  4.95680673],\n",
      "       [ 5.22610922,  4.18602692,  4.75018959,  4.58402188],\n",
      "       [ 4.96862442,  4.95680673,  4.58402188,  5.56769951]])]\n",
      "result_mean :  0.977083333333\n",
      "--------------------------------------------------------------------------------------------------------------\n",
      "model :  LogisticRegression(C=1.0, class_weight=None, dual=False, fit_intercept=True,\n",
      "          intercept_scaling=1, max_iter=100, multi_class='ovr', n_jobs=1,\n",
      "          penalty='l2', random_state=None, solver='liblinear', tol=0.0001,\n",
      "          verbose=0, warm_start=False)\n",
      "coefficient :  [[ 1.75245076 -1.29805953 -3.24702114  2.77568918]]\n",
      "result_mean :  0.983331976849\n",
      "--------------------------------------------------------------------------------------------------------------\n",
      "model :  GaussianNB(priors=None)\n",
      "theta :  [[-0.09993666 -0.14967162  0.03641395  0.06624375]\n",
      " [ 0.89541593  0.84595022  0.88608132  3.9012955 ]]\n",
      "sigma_ :  [[ 6.0526494   7.23596939  4.01303627  4.78927559]\n",
      " [ 5.78049336  6.38621444  4.3128633   5.14884378]]\n",
      "result_mean :  0.741525592331\n"
     ]
    },
    {
     "name": "stderr",
     "output_type": "stream",
     "text": [
      "/opt/conda/lib/python3.6/site-packages/sklearn/discriminant_analysis.py:664: DeprecationWarning: 'store_covariances' was renamed to store_covariance in version 0.19 and will be removed in 0.21.\n",
      "  DeprecationWarning)\n",
      "/opt/conda/lib/python3.6/site-packages/sklearn/discriminant_analysis.py:664: DeprecationWarning: 'store_covariances' was renamed to store_covariance in version 0.19 and will be removed in 0.21.\n",
      "  DeprecationWarning)\n",
      "/opt/conda/lib/python3.6/site-packages/sklearn/discriminant_analysis.py:664: DeprecationWarning: 'store_covariances' was renamed to store_covariance in version 0.19 and will be removed in 0.21.\n",
      "  DeprecationWarning)\n",
      "/opt/conda/lib/python3.6/site-packages/sklearn/discriminant_analysis.py:664: DeprecationWarning: 'store_covariances' was renamed to store_covariance in version 0.19 and will be removed in 0.21.\n",
      "  DeprecationWarning)\n",
      "/opt/conda/lib/python3.6/site-packages/sklearn/discriminant_analysis.py:664: DeprecationWarning: 'store_covariances' was renamed to store_covariance in version 0.19 and will be removed in 0.21.\n",
      "  DeprecationWarning)\n",
      "/opt/conda/lib/python3.6/site-packages/sklearn/discriminant_analysis.py:664: DeprecationWarning: 'store_covariances' was renamed to store_covariance in version 0.19 and will be removed in 0.21.\n",
      "  DeprecationWarning)\n"
     ]
    }
   ],
   "source": [
    "'''Generate 4 Gaussians samples with the different covariance matrix'''\n",
    "n, dim = 300, 4\n",
    "np.random.seed(0)\n",
    "C = np.array([np.random.random(size=dim), np.random.random(size=dim), np.random.random(size=dim), np.random.random(size=dim)]) *2\n",
    "X = np.r_[np.dot(np.random.randn(n, dim), C),\n",
    "          np.dot(np.random.randn(n, dim), C) + np.array([1, 1, 1, 4])]\n",
    "y = np.hstack((np.zeros(n), np.ones(n)))\n",
    "\n",
    "lda, res = model_select(X, y, 'lda')\n",
    "print(\"model : \",lda)\n",
    "print(\"coefficient : \",lda.coef_)\n",
    "print(\"covariance : \", lda.covariance_)\n",
    "print(\"result_mean : \", res)\n",
    "print(\"--------------------------------------------------------------------------------------------------------------\")\n",
    "qda, res = model_select(X, y, 'qda')\n",
    "print(\"model : \",qda)\n",
    "print(\"covariance : \", qda.covariance_)\n",
    "print(\"result_mean : \", res)\n",
    "print(\"--------------------------------------------------------------------------------------------------------------\")\n",
    "lr, res = model_select(X, y, 'lr')\n",
    "print(\"model : \",lr)\n",
    "print(\"coefficient : \",lr.coef_)\n",
    "print(\"result_mean : \", res)\n",
    "print(\"--------------------------------------------------------------------------------------------------------------\")\n",
    "nb, res = model_select(X, y, 'nb')\n",
    "print(\"model : \",nb)\n",
    "print(\"theta : \",nb.theta_)\n",
    "print(\"sigma_ : \", nb.sigma_)\n",
    "print(\"result_mean : \", res)"
   ]
  },
  {
   "cell_type": "markdown",
   "metadata": {},
   "source": [
    "## 2차원 같은 공분산, 비슷한 속성"
   ]
  },
  {
   "cell_type": "code",
   "execution_count": 71,
   "metadata": {},
   "outputs": [
    {
     "name": "stdout",
     "output_type": "stream",
     "text": [
      "model :  LinearDiscriminantAnalysis(n_components=None, priors=None, shrinkage=None,\n",
      "              solver='svd', store_covariance=True, tol=0.0001)\n",
      "coefficient :  [[ 0.73559588  0.56447281]]\n",
      "covariance :  [[ 0.61843835  0.80592137]\n",
      " [ 0.80592137  1.05024092]]\n",
      "result_mean :  0.691595225176\n",
      "--------------------------------------------------------------------------------------------------------------\n",
      "model :  QuadraticDiscriminantAnalysis(priors=None, reg_param=0.0,\n",
      "               store_covariance=False, store_covariances=True, tol=0.0001)\n",
      "covariance :  [array([[ 0.5814727 ,  0.75774938],\n",
      "       [ 0.75774938,  0.98746531]]), array([[ 0.60653609,  0.79041087],\n",
      "       [ 0.79041087,  1.03002832]])]\n",
      "result_mean :  1.0\n",
      "--------------------------------------------------------------------------------------------------------------\n",
      "model :  LogisticRegression(C=1.0, class_weight=None, dual=False, fit_intercept=True,\n",
      "          intercept_scaling=1, max_iter=100, multi_class='ovr', n_jobs=1,\n",
      "          penalty='l2', random_state=None, solver='liblinear', tol=0.0001,\n",
      "          verbose=0, warm_start=False)\n",
      "coefficient :  [[ 8.41783958 -5.74116393]]\n",
      "result_mean :  0.931265147405\n",
      "--------------------------------------------------------------------------------------------------------------\n",
      "model :  GaussianNB(priors=None)\n",
      "theta :  [[-0.09795556 -0.12765133]\n",
      " [ 0.90927529  0.88177159]]\n",
      "sigma_ :  [[ 0.63062734  1.07094043]\n",
      " [ 0.57896453  0.9832059 ]]\n",
      "result_mean :  0.697868511485\n"
     ]
    },
    {
     "name": "stderr",
     "output_type": "stream",
     "text": [
      "/opt/conda/lib/python3.6/site-packages/sklearn/discriminant_analysis.py:388: UserWarning: Variables are collinear.\n",
      "  warnings.warn(\"Variables are collinear.\")\n",
      "/opt/conda/lib/python3.6/site-packages/sklearn/discriminant_analysis.py:388: UserWarning: Variables are collinear.\n",
      "  warnings.warn(\"Variables are collinear.\")\n",
      "/opt/conda/lib/python3.6/site-packages/sklearn/discriminant_analysis.py:388: UserWarning: Variables are collinear.\n",
      "  warnings.warn(\"Variables are collinear.\")\n",
      "/opt/conda/lib/python3.6/site-packages/sklearn/discriminant_analysis.py:388: UserWarning: Variables are collinear.\n",
      "  warnings.warn(\"Variables are collinear.\")\n",
      "/opt/conda/lib/python3.6/site-packages/sklearn/discriminant_analysis.py:388: UserWarning: Variables are collinear.\n",
      "  warnings.warn(\"Variables are collinear.\")\n",
      "/opt/conda/lib/python3.6/site-packages/sklearn/discriminant_analysis.py:388: UserWarning: Variables are collinear.\n",
      "  warnings.warn(\"Variables are collinear.\")\n",
      "/opt/conda/lib/python3.6/site-packages/sklearn/discriminant_analysis.py:664: DeprecationWarning: 'store_covariances' was renamed to store_covariance in version 0.19 and will be removed in 0.21.\n",
      "  DeprecationWarning)\n",
      "/opt/conda/lib/python3.6/site-packages/sklearn/discriminant_analysis.py:682: UserWarning: Variables are collinear\n",
      "  warnings.warn(\"Variables are collinear\")\n",
      "/opt/conda/lib/python3.6/site-packages/sklearn/discriminant_analysis.py:664: DeprecationWarning: 'store_covariances' was renamed to store_covariance in version 0.19 and will be removed in 0.21.\n",
      "  DeprecationWarning)\n",
      "/opt/conda/lib/python3.6/site-packages/sklearn/discriminant_analysis.py:682: UserWarning: Variables are collinear\n",
      "  warnings.warn(\"Variables are collinear\")\n",
      "/opt/conda/lib/python3.6/site-packages/sklearn/discriminant_analysis.py:664: DeprecationWarning: 'store_covariances' was renamed to store_covariance in version 0.19 and will be removed in 0.21.\n",
      "  DeprecationWarning)\n",
      "/opt/conda/lib/python3.6/site-packages/sklearn/discriminant_analysis.py:682: UserWarning: Variables are collinear\n",
      "  warnings.warn(\"Variables are collinear\")\n",
      "/opt/conda/lib/python3.6/site-packages/sklearn/discriminant_analysis.py:664: DeprecationWarning: 'store_covariances' was renamed to store_covariance in version 0.19 and will be removed in 0.21.\n",
      "  DeprecationWarning)\n",
      "/opt/conda/lib/python3.6/site-packages/sklearn/discriminant_analysis.py:682: UserWarning: Variables are collinear\n",
      "  warnings.warn(\"Variables are collinear\")\n",
      "/opt/conda/lib/python3.6/site-packages/sklearn/discriminant_analysis.py:664: DeprecationWarning: 'store_covariances' was renamed to store_covariance in version 0.19 and will be removed in 0.21.\n",
      "  DeprecationWarning)\n",
      "/opt/conda/lib/python3.6/site-packages/sklearn/discriminant_analysis.py:682: UserWarning: Variables are collinear\n",
      "  warnings.warn(\"Variables are collinear\")\n",
      "/opt/conda/lib/python3.6/site-packages/sklearn/discriminant_analysis.py:664: DeprecationWarning: 'store_covariances' was renamed to store_covariance in version 0.19 and will be removed in 0.21.\n",
      "  DeprecationWarning)\n",
      "/opt/conda/lib/python3.6/site-packages/sklearn/discriminant_analysis.py:682: UserWarning: Variables are collinear\n",
      "  warnings.warn(\"Variables are collinear\")\n"
     ]
    }
   ],
   "source": [
    "'''Generate 2 Gaussians samples with the same covariance matrix, similar attribute'''\n",
    "n, dim = 300, 2\n",
    "np.random.seed(0)\n",
    "a = np.random.random(size=dim)\n",
    "b = np.random.randn(n, dim)\n",
    "\n",
    "C = np.array([a, a])\n",
    "X = np.r_[np.dot(b, C),\n",
    "          np.dot(b, C) + np.array([1, 1])]\n",
    "y = np.hstack((np.zeros(n), np.ones(n)))\n",
    "\n",
    "lda, res = model_select(X, y, 'lda')\n",
    "print(\"model : \",lda)\n",
    "print(\"coefficient : \",lda.coef_)\n",
    "print(\"covariance : \", lda.covariance_)\n",
    "print(\"result_mean : \", res)\n",
    "print(\"--------------------------------------------------------------------------------------------------------------\")\n",
    "qda, res = model_select(X, y, 'qda')\n",
    "print(\"model : \",qda)\n",
    "print(\"covariance : \", qda.covariance_)\n",
    "print(\"result_mean : \", res)\n",
    "print(\"--------------------------------------------------------------------------------------------------------------\")\n",
    "lr, res = model_select(X, y, 'lr')\n",
    "print(\"model : \",lr)\n",
    "print(\"coefficient : \",lr.coef_)\n",
    "print(\"result_mean : \", res)\n",
    "print(\"--------------------------------------------------------------------------------------------------------------\")\n",
    "nb, res = model_select(X, y, 'nb')\n",
    "print(\"model : \",nb)\n",
    "print(\"theta : \",nb.theta_)\n",
    "print(\"sigma_ : \", nb.sigma_)\n",
    "print(\"result_mean : \", res)"
   ]
  },
  {
   "cell_type": "markdown",
   "metadata": {},
   "source": [
    "## 결론"
   ]
  },
  {
   "cell_type": "markdown",
   "metadata": {},
   "source": [
    "* 차원이 높아질 수록 정확도가 떨어짐\n",
    "* 다른 공분산으로 했을 때 정확도 거의 100%\n",
    "* 비슷한 속성으로 했을 경우 NB와 LDA가 정확도가 떨어짐"
   ]
  },
  {
   "cell_type": "code",
   "execution_count": null,
   "metadata": {},
   "outputs": [],
   "source": []
  }
 ],
 "metadata": {
  "kernelspec": {
   "display_name": "Python 3",
   "language": "python",
   "name": "python3"
  },
  "language_info": {
   "codemirror_mode": {
    "name": "ipython",
    "version": 3
   },
   "file_extension": ".py",
   "mimetype": "text/x-python",
   "name": "python",
   "nbconvert_exporter": "python",
   "pygments_lexer": "ipython3",
   "version": "3.6.3"
  }
 },
 "nbformat": 4,
 "nbformat_minor": 2
}
